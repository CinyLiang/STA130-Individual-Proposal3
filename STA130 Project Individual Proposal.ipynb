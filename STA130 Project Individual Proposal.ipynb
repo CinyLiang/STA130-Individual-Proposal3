{
 "cells": [
  {
   "cell_type": "markdown",
   "id": "c83fe30c",
   "metadata": {},
   "source": [
    "# STA130 Project Individual Proposal"
   ]
  },
  {
   "cell_type": "markdown",
   "id": "006f3249",
   "metadata": {},
   "source": [
    "## Proposal 1:\n",
    "### Research Question: \n",
    "Do LGBTQ people perceive negative emotions at a different frequency than non-LGBTQ people on average?\n",
    "### Variables: \n",
    "The two variables involved in this study are the sexual orientation of people (either LGBTQ or non-LGBTQ) and the frequency of their negative emotions. These two variables are chosen since they are directly related to the research question. In fact, they are exactly the varisbles of interest of the research question. The first variable, sexual orientation, can be obtained from the ‘DEMO_identity_lgbtq’ column dataset. The second variable, though largely conceptual, can be obtained by quantifying and combining the ‘WELLNESS_malach_pines_burnout_measure’ columns. Specifically, the categorical values ‘Never,’ ‘Almost Never,’ ‘Rarely,’ ‘Sometimes,’ ‘Often,’ ‘Very Often,’ and ‘Always’ can be assigned scores from 0 to 5, and one numerical variable, ‘negative_emotion_frequency,’ can be attached to each observation to record the sum of the scores of each of the ‘WELLNESS_malach_pines_burnout_measure’ columns. To visualize the variables, a box plot (preferably with the sample size labeled) showing the distributions of the ‘negative_emotion_frequency’ scores for both the LGBTQ and non-LGBTQ groups would be effective. It displays both the distribution of the participants' sexial orientations and the distribution for the ‘negative_emotion_frequency’scores for people within each group. Also, it provides a clear comparison of the centers (medians) and spreads (IQRs) of the distributions between the two groups. Additionally, a stacked histogram can also be effective, which provides shape information of the two distributions.\n",
    "### Analysis: \n",
    "Since there are no presumed population distributions of the ‘negative_emotion_frequency’ scores for the LGBTQ and non-LGBTQ groups, a permutation test, which does not assume population distributions, would be suitable. The null hypothesis is that the population mean ‘negative_emotion_frequency’ scores for the two groups have no difference, $\\mu_1-\\mu_2 = 0$, and the alternative hypothesis is that there is difference between the population means, $\\mu_1 - \\mu_2 \\neq 0$. The significance level would be set at $\\alpha = 0.05$. Three hundred responses will be randomly drawn from each of the 942 LGBTQ cross-sectional observations and the 147 non-LGBTQ cross-sectional observations, and the difference in the means of their ‘negative_emotion_frequency’ scores will be recorded. Then, the samples’ labels (LGBTQ or not) will be shuffled, and a new difference in sample means will be recorded. The permutation will be conducted 1000 times, and the resulting test statistics of difference in means will formulate an estimation of the population sampling distribution under the null hypothesis. The p-value will be calculated as the proportion of as or more extreme differences in means than the observed difference among the 1000 simulations. \n",
    "### Hypothesis: \n",
    "If the calculated p-value is less than the significance level, my analysis will result in rejecting the null hypothesis that there is no difference in the mean ‘negative_emotion_frequency’ scores for the LGBTQ and non-LGBTQ groups, which will provide insights into the research question by reflecting the role sexual orientation plays in people’s general emotions. If the p-value is instead greater than the significance level, I would fail to reject the null hypothesis and cannot make connections between sexual orientation and negative emotions, failing to provide enough evidence for a positive answer to the research question. "
   ]
  },
  {
   "cell_type": "markdown",
   "id": "4fa56311",
   "metadata": {},
   "source": [
    "## Proposal2: \n",
    "### Research Question: \n",
    "Do people who frequently perform COVID-19 prevention behaviours tend to feel negative emotions at a different frequency than those who do not?\n",
    "### Variables: \n",
    "The two variables involved in this study are the extent to which people exhibit COVID-19 prevention behaviours and the frequency with which they feel negative emotions, which are exactly the two variables of interest of the research question. The second variable can be obtained in the same way as described in the first proposal. In a similar manner, the extent to which people exhibit COVID-19 prevention behaviours can be measured by the ‘COVID_prevention’ columns in the CSCS dataset, where ‘Not at all,’ ‘Somewhat Closely,’ and ‘Very Closely’ can be assigned values 0, 1, and 2. The new variable ‘follow_COVID_score’ will record the sum of these scores for each observation. Histograms can be created to show the distributions of the 'negative_emotion_frequency' score and the ‘follow_COVID_score, which effectively reveal the shapes of the distributions. Also, a scatter plot showing the distributions of the paired ‘negative_emotion_frequency’ score and the ‘follow_COVID_score’ for each observation would be effective. It will present the general trend of association between the two variables. Additionally, since the assigned numeric values measuring ‘closeness’ are not significantly meaningful by themselves, a limit (6, for example) can be set to divide the observations into ‘close-followers’ and ‘loose-followers,’ and a box plot comparing the distributions of the ‘negative_emotion_frequency’ scores for the two groups can be effective in this case by presenting their unique centers and spreads.\n",
    "### Analysis: \n",
    "Since there are no presumed population distributions for the 'negative_emotion_frequency' scores for the ‘close-followers’ or the ‘loose-followers,’ I plan to perform a permutation test for the population difference in means of the ‘negative_emotion_frequency’ scores for the ‘close-followers’ and ‘loose-followers.’ The null hypothesis is that there is no difference between the mean scores of the two groups,$\\mu_1 - \\mu_2 = 0$, and the alternative hypothesis is that differences occur, on average, between the  ‘negative_emotion_frequency’ scores of the two groups, $\\mu_1 - \\mu_2 \\neq 0$. A hundred observations would be randomly selected from both the ‘close-followers’ and ‘loose-followers’ from the cross-sectional study in the CSCS data, and a difference between their mean ‘negative_emotion_frequency’ scores would be recorded. Then, the simulation under the null hypothesis would be carried out by shuffling the observations’ labels ( ‘close-followers’ or ‘loose-followers’) and recording the new mean differences for 1000 times. A p-value would then be calculated as the proportion of simulated differences of means that are as or more extreme than the observed statistics.\n",
    "### Hypothesis: \n",
    "If the calculated p-value is less than the significance level, my analysis will result in rejecting the null hypothesis that there is no difference in the mean ‘negative_emotion_frequency’ scores for the ‘close-followers’ and ‘loose-followers.’ This will provide evidence for the association between performing COVID-prevention behaviours and feeling negative emotions, which is what the reseach question is essentially interested in. If the p-value is greater than the significance level, I would fail to reject the null hypothesis or make connections between the two variables, and no evidence would be provided for a positive answer to the research question."
   ]
  },
  {
   "cell_type": "markdown",
   "id": "6dde899e",
   "metadata": {},
   "source": [
    "## Proposal3: \n",
    "### Research Question: \n",
    "Is keeping pets associated with a reduction in negative emotions?\n",
    "### Variables: \n",
    "The two variables involved in this study are the number of pets one keeps and the frequency with which one feels negative emotions, which are directly related to the research question. The second variable can be obtained in the same way as described in the first proposal, and the first variable can be obtained from the sum of the six ‘GEO_housing_live_with’ columns associated with pets. Two histograms can be made for each of the two variables in order to present the basic shape, center, and spread information for the variables. Also, a scatter plot for the paired ‘negative_emotion_frequency’ scores and pet numbers for each observation would be effective here since it reveals any explicit patterns of association between the two variables.\n",
    "### Analysis: \n",
    "A hypothesis test for linear association would be an appropriate tool for statistical analysis here. The null hypothesis would be that there is no linear association between the two variables on average, in other words, the hypothesized population slope parameter, $\\beta_1 = 0$. The alternative hypothesis is $\\beta_1 \\neq 0$, and the significance level is $\\alpha = 0.05$. Five hundred observations from the cross-sectional study that are not empty at the desired columns would be randomly taken from the CSCS dataset, and a simple linear regression model would be fitted to the sample regarding the number of pets kept and the frequency of having negative emotions. However, this test is only valid if the three conditions (assumptions)--normality, heteroskedosticity, and linearity--are satisfied. To check the three conditions, a histogram for the distribution of residues, a scatter plot for the residues over the fitted values, and another scatter plot for the observed values over the corresponding fitted value would be created. The normality assumption would be satisfied if the histogram for the residues is approximately Normally distributed; The heteroskedosticity condition would be met if the residues heights do not change systematically over the range of the fitted value; And the linearity assumption would be met if the distribution of the observed values over the fitted values follow a linear pattern. If the assumptions are satisfied and the test is valid, the ‘.summary().tables[1]’ method would provide the information required for the hypothesis testing, including a p-value.\n",
    "### Hypothesis: \n",
    "If the calculated p-value is less than the significance level, my analysis will result in rejecting the null hypothesis that there is no association between the number of pets one keeps and the ‘negative_emotion_frequency’ scores, which provides evidence for a positive answer to the research question. Moreover, I would be able to obtain a 95% confidence interval for the population slope $\\beta_1$ from the provided test results to approximate the range the slope falls in and the direction of association for the two variables. Also, I would get an R-squared that evaluates the proportion of variation for the ‘negative_emotion_frequency’ scores that can be explained by this regression model. These will add more details to my answer to the research question. If, instead, the p-value is greater than the significance level, I would fail to reject the null hypothesis or make connections between the two variables, providing no evidence supporting a positive answer to the research question. "
   ]
  },
  {
   "cell_type": "markdown",
   "id": "ef30c94f",
   "metadata": {},
   "source": [
    "## Preferred Teammate:\n",
    "Yue Yang Gracie Chen\n",
    "\n",
    "Julien Brandon"
   ]
  },
  {
   "cell_type": "code",
   "execution_count": null,
   "id": "04114544",
   "metadata": {},
   "outputs": [],
   "source": []
  }
 ],
 "metadata": {
  "kernelspec": {
   "display_name": "Python 3 (ipykernel)",
   "language": "python",
   "name": "python3"
  },
  "language_info": {
   "codemirror_mode": {
    "name": "ipython",
    "version": 3
   },
   "file_extension": ".py",
   "mimetype": "text/x-python",
   "name": "python",
   "nbconvert_exporter": "python",
   "pygments_lexer": "ipython3",
   "version": "3.11.6"
  }
 },
 "nbformat": 4,
 "nbformat_minor": 5
}
